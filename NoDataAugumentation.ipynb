{
  "cells": [
    {
      "cell_type": "code",
      "execution_count": null,
      "metadata": {
        "id": "kn6WDy8cbyp0"
      },
      "outputs": [],
      "source": [
        "\n",
        "import numpy as np \n",
        "from sklearn.utils import shuffle\n",
        "import random\n",
        "from sklearn.metrics import ConfusionMatrixDisplay\n",
        "from sklearn.metrics import confusion_matrix\n",
        "\n",
        "from sklearn import svm\n",
        "from sklearn.metrics import matthews_corrcoef\n",
        "from matplotlib import pyplot\n",
        "import matplotlib.pyplot as plt\n",
        "from sklearn import metrics\n",
        "\n",
        "\n",
        "from sklearn.neural_network import MLPClassifier\n",
        "from sklearn.neighbors import KNeighborsClassifier\n",
        "from sklearn.tree import DecisionTreeClassifier\n",
        "from sklearn.ensemble import RandomForestClassifier, AdaBoostClassifier\n",
        "from sklearn.ensemble import ExtraTreesClassifier\n",
        "from sklearn.ensemble import GradientBoostingClassifier\n",
        "from sklearn.linear_model import LogisticRegression\n",
        "from sklearn import svm\n",
        "from sklearn.model_selection import KFold\n",
        "from sklearn import preprocessing\n",
        "\n",
        "\n",
        "import pandas as pd\n",
        "import pickle\n",
        "\n"
      ]
    },
    {
      "cell_type": "code",
      "execution_count": null,
      "metadata": {
        "id": "QUOGxttCcD5s"
      },
      "outputs": [],
      "source": [
        "#feature Extraction -Amino acid compsition\n",
        "#ACP740\n",
        "def AAC_740():\n",
        "    df = pd.read_csv(\"/content/Acp740AACEncoding.csv\",header=None)\n",
        "    df.columns=['label','AAC_A','AAC_C','AAC_D','AAC_E','AAC_F','AAC_G','AAC_H','AAC_I','AAC_K','AAC_L','AAC_M','AAC_N','AAC_P','AAC_Q','AAC_R','AAC_S','AAC_T','AAC_V','AAC_W','AAC_Y']\n",
        "    data1 = df.drop(columns='label',axis=1)\n",
        "    X_aac = np.array(data1)\n",
        "    label=df['label']\n",
        "    return np.array(X_aac),label"
      ]
    },
    {
      "cell_type": "code",
      "execution_count": null,
      "metadata": {
        "id": "HS24pcCXcQZ8"
      },
      "outputs": [],
      "source": [
        "#feature extraction - Amino acid composition\n",
        "#ACP240\n",
        "def AAC_240():\n",
        "    df = pd.read_csv(\"/content/Acp240AACEncoding.csv\",header=None)\n",
        "    df.columns=['label','AAC_A','AAC_C','AAC_D','AAC_E','AAC_F','AAC_G','AAC_H','AAC_I','AAC_K','AAC_L','AAC_M','AAC_N','AAC_P','AAC_Q','AAC_R','AAC_S','AAC_T','AAC_V','AAC_W','AAC_Y']\n",
        "    data2 = df.drop(columns='label',axis=1)\n",
        "    X_aac = np.array(data2)\n",
        "    label=df['label']\n",
        "    return np.array(X_aac),label"
      ]
    },
    {
      "cell_type": "code",
      "execution_count": null,
      "metadata": {
        "colab": {
          "base_uri": "https://localhost:8080/",
          "height": 401
        },
        "id": "41WH2--obOgA",
        "outputId": "a744df9e-350b-4437-c3cf-ba3ed7678bd4"
      },
      "outputs": [
        {
          "output_type": "stream",
          "name": "stdout",
          "text": [
            "0.8513513513513513 0.8970588235294118 0.8026315789473685 0.9027777777777778 0.7074810479896504\n",
            "0.8986486486486487 0.8947368421052632 0.9066666666666666 0.8904109589041096 0.7972960927875882\n",
            "0.8648648648648649 0.8767123287671232 0.8533333333333334 0.8767123287671232 0.7300456621004566\n",
            "0.8716216216216216 0.8783783783783784 0.8666666666666667 0.8767123287671232 0.7433111162394346\n",
            "0.8851351351351351 0.8717948717948718 0.9066666666666666 0.863013698630137 0.770736893406094\n",
            "mean performance of ACP_Boost\n",
            "[0.87432432 0.88373625 0.86719298 0.88192542 0.74977416]\n"
          ]
        },
        {
          "output_type": "display_data",
          "data": {
            "text/plain": [
              "<Figure size 432x288 with 2 Axes>"
            ],
            "image/png": "[encoded data removed]"
          },
          "metadata": {
            "needs_background": "light"
          }
        }
      ],
      "source": [
        "\n",
        "\n",
        "def prepare_feature_acp740():\n",
        "    label = []\n",
        "    protein_seq_dict = {}\n",
        "    protein_index = 0\n",
        "    with open('acp740.txt', 'r') as fp:\n",
        "        for line in fp:\n",
        "            if line[0] == '>':\n",
        "                values = line[1:].strip().split('|')\n",
        "                label_temp = values[1]\n",
        "#                proteinName = values[0]\n",
        "                if label_temp == '1':\n",
        "                    label.append(1)\n",
        "                else:\n",
        "                    label.append(0)\n",
        "            else:\n",
        "                seq = line[:-1]\n",
        "                protein_seq_dict[protein_index] = seq\n",
        "                protein_index = protein_index + 1\n",
        "    bpf=[]\n",
        "    for i in protein_seq_dict:  # and protein_fea_dict.has_key(protein) and RNA_fea_dict.has_key(RNA):\n",
        "        bpf_feature = BPF(protein_seq_dict[i])\n",
        "        bpf.append(bpf_feature)\n",
        "    return np.array(bpf), label\n",
        "\n",
        "def prepare_feature_acp240():\n",
        "    label = []\n",
        "    protein_seq_dict = {}\n",
        "    protein_index = 1\n",
        "    with open('acp240.txt', 'r') as fp:\n",
        "        for line in fp:\n",
        "            if line[0] == '>':\n",
        "                values = line[1:].strip().split('|')\n",
        "                label_temp = values[1]\n",
        "#                protein = values[0]\n",
        "                if label_temp=='1':\n",
        "                    label.append(1)\n",
        "                else:\n",
        "                    label.append(0)\n",
        "            else:\n",
        "                seq = line[:-1]\n",
        "                protein_seq_dict[protein_index] = seq\n",
        "                protein_index = protein_index + 1\n",
        "    bpf = []\n",
        "    # get protein feature\n",
        "    for i in protein_seq_dict:  # and protein_fea_dict.has_key(protein) and RNA_fea_dict.has_key(RNA):\n",
        "\n",
        "        bpf_feature = BPF(protein_seq_dict[i])\n",
        "        bpf.append(bpf_feature)\n",
        "        protein_index = protein_index + 1\n",
        "\n",
        "    return np.array(bpf), label\n",
        "\n",
        "def BPF(seq_temp):\n",
        "    seq = seq_temp\n",
        "#    chars = ['A', 'C', 'D', 'E', 'F', 'G', 'H', 'I', 'K', 'L', 'M', 'N', 'P', 'Q', 'R', 'S', 'T', 'V', 'W', 'Y']\n",
        "    fea = []\n",
        "    tem_vec =[]\n",
        "    k = 7\n",
        "    for i in range(k):\n",
        "        if seq[i] =='A':\n",
        "            tem_vec = [1,0,0,0,0,0,0,0,0,0,0,0,0,0,0,0,0,0,0,0]\n",
        "        elif seq[i]=='C':\n",
        "            tem_vec = [0,1,0,0,0,0,0,0,0,0,0,0,0,0,0,0,0,0,0,0]\n",
        "        elif seq[i]=='D':\n",
        "            tem_vec = [0,0,1,0,0,0,0,0,0,0,0,0,0,0,0,0,0,0,0,0]\n",
        "        elif seq[i]=='E':\n",
        "            tem_vec = [0,0,0,1,0,0,0,0,0,0,0,0,0,0,0,0,0,0,0,0]\n",
        "        elif seq[i]=='F':\n",
        "            tem_vec = [0,0,0,0,1,0,0,0,0,0,0,0,0,0,0,0,0,0,0,0]\n",
        "        elif seq[i]=='G':\n",
        "            tem_vec = [0,0,0,0,0,1,0,0,0,0,0,0,0,0,0,0,0,0,0,0]\n",
        "        elif seq[i]=='H':\n",
        "            tem_vec = [0,0,0,0,0,0,1,0,0,0,0,0,0,0,0,0,0,0,0,0]\n",
        "        elif seq[i]=='I':\n",
        "            tem_vec = [0,0,0,0,0,0,0,1,0,0,0,0,0,0,0,0,0,0,0,0]\n",
        "        elif seq[i]=='K':\n",
        "            tem_vec = [0,0,0,0,0,0,0,0,1,0,0,0,0,0,0,0,0,0,0,0]\n",
        "        elif seq[i]=='L':\n",
        "            tem_vec = [0,0,0,0,0,0,0,0,0,1,0,0,0,0,0,0,0,0,0,0]\n",
        "        elif seq[i]=='M':\n",
        "            tem_vec = [0,0,0,0,0,0,0,0,0,0,1,0,0,0,0,0,0,0,0,0]\n",
        "        elif seq[i]=='N':\n",
        "            tem_vec = [0,0,0,0,0,0,0,0,0,0,0,1,0,0,0,0,0,0,0,0]\n",
        "        elif seq[i]=='P':\n",
        "            tem_vec = [0,0,0,0,0,0,0,0,0,0,0,0,1,0,0,0,0,0,0,0]\n",
        "        elif seq[i]=='Q':\n",
        "            tem_vec = [0,0,0,0,0,0,0,0,0,0,0,0,0,1,0,0,0,0,0,0]\n",
        "        elif seq[i]=='R':\n",
        "            tem_vec = [0,0,0,0,0,0,0,0,0,0,0,0,0,0,1,0,0,0,0,0]\n",
        "        elif seq[i]=='S':\n",
        "            tem_vec = [0,0,0,0,0,0,0,0,0,0,0,0,0,0,0,1,0,0,0,0]\n",
        "        elif seq[i]=='T':\n",
        "            tem_vec = [0,0,0,0,0,0,0,0,0,0,0,0,0,0,0,0,1,0,0,0]\n",
        "        elif seq[i]=='V':\n",
        "            tem_vec = [0,0,0,0,0,0,0,0,0,0,0,0,0,0,0,0,0,1,0,0]\n",
        "        elif seq[i]=='W':\n",
        "            tem_vec = [0,0,0,0,0,0,0,0,0,0,0,0,0,0,0,0,0,0,1,0]\n",
        "        elif seq[i]=='Y':\n",
        "            tem_vec = [0,0,0,0,0,0,0,0,0,0,0,0,0,0,0,0,0,0,0,1]\n",
        "        fea = fea + tem_vec\n",
        "    return fea\n",
        "\n",
        "\n",
        "def calculate_performace(test_num, pred_y, labels):\n",
        "    tp = 0\n",
        "    fp = 0\n",
        "    tn = 0\n",
        "    fn = 0\n",
        "    for index in range(test_num):\n",
        "        if labels[index] == 1:\n",
        "            if labels[index] == pred_y[index]:\n",
        "                tp = tp + 1\n",
        "            else:\n",
        "                fn = fn + 1\n",
        "        else:\n",
        "            if labels[index] == pred_y[index]:\n",
        "                tn = tn + 1\n",
        "            else:\n",
        "                fp = fp + 1\n",
        "\n",
        "    acc = float(tp + tn) / test_num\n",
        "    precision = float(tp) / (tp + fp)\n",
        "    sensitivity = float(tp) / (tp + fn)\n",
        "    specificity = float(tn) / (tn + fp)\n",
        "    MCC = float(tp * tn - fp * fn) / (np.sqrt((tp + fp) * (tp + fn) * (tn + fp) * (tn + fn)))\n",
        "    return acc, precision, sensitivity, specificity, MCC\n",
        "\n",
        "def ACP_Boost():\n",
        "    # define parameters\n",
        "    num_cross_val = 5  # 5-fold\n",
        "    all_performance_lstm = []\n",
        "#    all_labels = []\n",
        "    all_prob = {}\n",
        "    all_prob[0] = []\n",
        "\n",
        "    for fold in range(num_cross_val):\n",
        "        train = np.array([x for i, x in enumerate(X) if i % num_cross_val != fold])\n",
        "        test = np.array([x for i, x in enumerate(X) if i % num_cross_val == fold])\n",
        "        train_label = np.array([x for i, x in enumerate(label) if i % num_cross_val != fold])\n",
        "        test_label = np.array([x for i, x in enumerate(label) if i % num_cross_val == fold])\n",
        "#        print(len(train))\n",
        "#        print(len(train_label))\n",
        "        \n",
        "        real_labels = []\n",
        "        for val in test_label:\n",
        "            if val == 1:\n",
        "                real_labels.append(1)\n",
        "            else:\n",
        "                real_labels.append(0)\n",
        "\n",
        "        \n",
        "\n",
        "\n",
        "\n",
        "## Updated Model for Prediction using N10 Binary Profile Feature+Amino Acid Index+Amino Acid Composition\n",
        "\n",
        "\n",
        "#        clf = MLPClassifier(hidden_layer_sizes=(100,100,100,100,100,100),alpha = 0.1,activation = 'tanh', random_state=120,max_iter=500,solver='adam',learning_rate='adaptive')\n",
        "#        clf = RandomForestClassifier(random_state=120,n_estimators=300,min_samples_split=10,min_samples_leaf=1,max_features='auto',bootstrap=False)   \n",
        "#        clf = ExtraTreesClassifier(random_state=120,n_estimators=400,max_depth=32,min_samples_split=10,min_samples_leaf=1,max_features='auto',bootstrap=False)\n",
        "#        clf = KNeighborsClassifier(n_neighbors =9)\n",
        "#        clf = svm.SVC(kernel=\"linear\")\n",
        " \n",
        "\n",
        "#Bootstrap Model for Prediction \n",
        "        \n",
        "#        clf = AdaBoostClassifier(base_estimator=RandomForestClassifier(random_state=120,n_estimators=300,min_samples_split=10,min_samples_leaf=1,max_features='auto',bootstrap=False),random_state = 121,n_estimators=406,learning_rate=0.04)\n",
        "        clf = GradientBoostingClassifier(random_state=121,n_estimators=350,learning_rate=0.1,loss='deviance')\n",
        "\n",
        "        model = clf.fit(train, train_label)\n",
        "        \n",
        "        y_pred_xgb = model.predict(test)\n",
        "\n",
        "\n",
        "\n",
        "        acc, precision, sensitivity, specificity, MCC = calculate_performace(len(real_labels), y_pred_xgb, real_labels)\n",
        "        print(acc, precision, sensitivity, specificity, MCC)\n",
        "        all_performance_lstm.append([acc, precision, sensitivity, specificity, MCC])\n",
        "\n",
        "\n",
        "    print('mean performance of ACP_Boost')\n",
        "    print(np.mean(np.array(all_performance_lstm), axis=0))\n",
        "\n",
        "\n",
        "\n",
        "#Confusion Matrix Plot\n",
        "    ConfusionMatrixDisplay.from_predictions(test_label,y_pred_xgb)\n",
        "    plt.show    \n",
        "\n",
        "\n",
        "\n",
        "\n",
        "dataset = 1#1.acp740   2.acp240\n",
        "peptidelen = 50\n",
        "\n",
        "if dataset == 1:\n",
        "#    delta = 0.02  #acp740\n",
        "#    augtimes = 2\n",
        "    bpf, label = prepare_feature_acp740()\n",
        "    X_aac, label = AAC_740()\n",
        "    if peptidelen == 40:\n",
        "        data = pickle.load(open('data740_40_50.pkl', 'rb'))\n",
        "    elif peptidelen == 50:\n",
        "        data = pickle.load(open('data740_50_50.pkl', 'rb'))\n",
        "    elif peptidelen == 60:      \n",
        "        data = pickle.load(open('data740_60_50.pkl', 'rb'))\n",
        "else:\n",
        "#    delta = 0.005  #acp240\n",
        "#    augtimes = 1\n",
        "    bpf, label = prepare_feature_acp240()\n",
        "    X_aac, label = AAC_240()\n",
        "    if peptidelen == 40:\n",
        "        data = pickle.load(open('data240_40_50.pkl', 'rb'))\n",
        "    elif peptidelen == 50:\n",
        "        data = pickle.load(open('data240_50_50.pkl', 'rb'))\n",
        "    elif peptidelen == 60:      \n",
        "        data = pickle.load(open('data240_60_50.pkl', 'rb'))    \n",
        "\n",
        "X_aa = data['X']\n",
        "X_aa = np.array(X_aa)\n",
        "X = np.concatenate((bpf, X_aa,X_aac), axis=1)   \n",
        "\n",
        "ACP_Boost()"
      ]
    },
    {
      "cell_type": "code",
      "execution_count": null,
      "metadata": {
        "colab": {
          "base_uri": "https://localhost:8080/"
        },
        "id": "wmdIMULedhI8",
        "outputId": "f194bd4c-2a3c-4694-be8f-3af3c703404b"
      },
      "outputs": [
        {
          "output_type": "execute_result",
          "data": {
            "text/plain": [
              "array([1, 0, 0, 0, 0, 0, 0, 0, 0, 0, 0, 0, 0, 0, 0, 0, 0, 0, 0, 0, 0, 0,\n",
              "       0, 0, 0, 0, 0, 1, 0, 0, 0, 0, 0, 0, 0, 0, 0, 0, 0, 0, 0, 0, 0, 0,\n",
              "       0, 1, 0, 0, 0, 0, 0, 0, 0, 0, 0, 0, 0, 0, 0, 0, 0, 0, 0, 0, 0, 0,\n",
              "       0, 0, 0, 0, 0, 0, 0, 0, 0, 1, 0, 0, 0, 0, 0, 0, 0, 0, 0, 0, 0, 1,\n",
              "       0, 0, 0, 0, 0, 0, 0, 0, 0, 0, 0, 0, 0, 0, 0, 0, 0, 0, 0, 0, 0, 1,\n",
              "       0, 0, 0, 0, 0, 0, 0, 0, 0, 0, 0, 0, 0, 0, 0, 1, 0, 0, 0, 0, 0, 0,\n",
              "       0, 0, 0, 0, 0, 0, 0, 0])"
            ]
          },
          "metadata": {},
          "execution_count": 36
        }
      ],
      "source": [
        "(bpf[0])"
      ]
    },
    {
      "cell_type": "code",
      "execution_count": null,
      "metadata": {
        "colab": {
          "base_uri": "https://localhost:8080/"
        },
        "id": "-l5KRR6vFZGT",
        "outputId": "7b141fc2-7789-4e68-d0e5-22e276554c8b"
      },
      "outputs": [
        {
          "output_type": "execute_result",
          "data": {
            "text/plain": [
              "array([[  41.  ,    0.67,    0.  , ...,    8.5 ,    0.  ,    1.99],\n",
              "       [  41.  ,    0.67,    0.  , ...,    8.5 ,    0.  ,    2.34],\n",
              "       [ 128.  ,    0.79,    0.  , ...,   11.2 ,    0.  ,    0.  ],\n",
              "       ...,\n",
              "       [ 103.  ,    0.98,    0.  , ...,   15.  ,    0.  ,    2.18],\n",
              "       [-148.  ,    0.79,    0.  , ...,    7.9 ,    0.  ,    0.  ],\n",
              "       [  36.  ,    0.76,    0.  , ...,    8.8 ,    0.  ,    0.  ]])"
            ]
          },
          "metadata": {},
          "execution_count": 31
        }
      ],
      "source": [
        "X_aa"
      ]
    },
    {
      "cell_type": "code",
      "execution_count": null,
      "metadata": {
        "colab": {
          "base_uri": "https://localhost:8080/"
        },
        "id": "wTZfQVvTGJcO",
        "outputId": "196253c3-a977-4211-cd3d-e4c02d012fae"
      },
      "outputs": [
        {
          "output_type": "execute_result",
          "data": {
            "text/plain": [
              "array([[0.13043478, 0.        , 0.        , ..., 0.        , 0.04347826,\n",
              "        0.        ],\n",
              "       [0.38095238, 0.        , 0.        , ..., 0.        , 0.28571429,\n",
              "        0.        ],\n",
              "       [0.30769231, 0.        , 0.        , ..., 0.        , 0.        ,\n",
              "        0.        ],\n",
              "       ...,\n",
              "       [0.05555556, 0.        , 0.05555556, ..., 0.        , 0.        ,\n",
              "        0.        ],\n",
              "       [0.        , 0.        , 0.        , ..., 0.        , 0.        ,\n",
              "        0.        ],\n",
              "       [0.07692308, 0.07692308, 0.        , ..., 0.        , 0.        ,\n",
              "        0.23076923]])"
            ]
          },
          "metadata": {},
          "execution_count": 32
        }
      ],
      "source": [
        "X_aac"
      ]
    },
    {
      "cell_type": "code",
      "execution_count": null,
      "metadata": {
        "id": "x03-NarNGQVB"
      },
      "outputs": [],
      "source": [
        ""
      ]
    }
  ],
  "metadata": {
    "colab": {
      "name": "NoDataAugumentation.ipynb",
      "provenance": []
    },
    "kernelspec": {
      "display_name": "Python 3",
      "name": "python3"
    },
    "language_info": {
      "name": "python"
    }
  },
  "nbformat": 4,
  "nbformat_minor": 0
}